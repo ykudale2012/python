{
 "cells": [
  {
   "cell_type": "markdown",
   "id": "f084eee9",
   "metadata": {},
   "source": [
    "1. In the below elements which of them are values or an expression? eg:- values can be integer or string and expressions will be mathematical operators.\n",
    "\n",
    "Ans-\n",
    "1. *       : expression\n",
    "2. 'hello' : value\n",
    "3. -87.8   : value\n",
    "4. -       : expression\n",
    "5. /       : expression\n",
    "6. +       : expression\n",
    "7. 6       : value"
   ]
  },
  {
   "cell_type": "markdown",
   "id": "301b3d0b",
   "metadata": {},
   "source": [
    "2. What is the difference between string and variable?\n",
    "\n",
    "Ans-\n",
    "String- It is a data type, which we can use for represting the sequence of characters or symbols.\n",
    "\n",
    "Variable- Variable is the name of memory location that we used to store data values. I can store different types of data like string, numbers, boolean and many more. We can assign values to variable and use it wherever and whenever we want"
   ]
  },
  {
   "cell_type": "markdown",
   "id": "5e929189",
   "metadata": {},
   "source": [
    "3. Describe three different data types.\n",
    "Ans-\n",
    "String- It is a data type, which we can use for represting the sequence of characters or symbols.\n",
    "\n",
    "Integer-  Integer data type we can use to store whole number without fractions. It can store both positive and negative values including zero. It can be like -2, -1, 0, 1, 2.\n",
    "\n",
    "Boolean- Boolean data type we can use to store the boolean values like true or false."
   ]
  },
  {
   "cell_type": "markdown",
   "id": "3b899a45",
   "metadata": {},
   "source": [
    "4. What is an expression made up of? What do all expressions do?\n",
    "\n",
    "Ans-\n",
    "expression is made up with the combination of values and operators, eg 2+4-0 in this expression 2,4 and 0 are the values and + and - are the operators.\n",
    "\n",
    "expressions- we use whenever we want to get some opeartion done, like addition, multiplication etc."
   ]
  },
  {
   "cell_type": "markdown",
   "id": "dab8e26d",
   "metadata": {},
   "source": [
    "5. This assignment statements, like spam = 10. What is the difference between an expression and a statement?\n",
    "\n",
    "Ans-\n",
    "Expressions are made with the values and operators to get the operation done, we can assigne the result of expression to the variable, eg- addition = 20+40 in this example addition is the variable and we have assigned the \"20+40\" expression,  whatever result this expression will return, the result will be assigned to the variable named addition.\n",
    "\n",
    "assignment statements- this means the assignment will be done to the variable, eg- str=\"Yogesh\""
   ]
  },
  {
   "cell_type": "markdown",
   "id": "31e0f3bb",
   "metadata": {},
   "source": [
    "6. After running the following code, what does the variable bacon contain?\n",
    "bacon = 22\n",
    "bacon + 1\n",
    "\n",
    "Ans- variable bacon is holding the value 22, because initialy we have assigned the 22 value, after that we have done the addition by 1 by it is not initialized ti the bacon, so bacon variable is holding 22\n"
   ]
  },
  {
   "cell_type": "markdown",
   "id": "8af90935",
   "metadata": {},
   "source": [
    "7. What should the values of the following two terms be?\n",
    "Ans-\n",
    "'spam' + 'spamspam' - spamspamspam\n",
    "'spam' * 3          - spamspamspam\n"
   ]
  },
  {
   "cell_type": "markdown",
   "id": "50c5d3a2",
   "metadata": {},
   "source": [
    "8. Why is eggs a valid variable name while 100 is invalid?\n",
    "\n",
    "Ans- \n",
    "eggs- it is a valid variable name because there are some rules in python for varibale name, and this variable meets the rules.\n",
    "100- it is not a valid variable name because it doesn't meets in the variable name rules.\n",
    "\n",
    "Note- following are the rules of variable name\n",
    "1.Identifiers can consist of letters (a-z or A-Z), digits (0-9), and underscores (_).\n",
    "2.Identifiers must start with a letter (a-z or A-Z) or an underscore (_). They cannot start with a digit or any special character.\n",
    "3.Here, 'myVariable' and 'myvariable' would be treated as two different identifiers.\n",
    "4.Reserved words or Keywords, are already reserved by the programming language and cannot be used as identifiers."
   ]
  },
  {
   "cell_type": "markdown",
   "id": "e98fecd7",
   "metadata": {},
   "source": [
    "9. What three functions can be used to get the integer, floating-point number, or string version of a value?\n",
    "\n",
    "Ans-\n",
    "for getting the integer version of value we can use int(value), for floating point float(value), and for String str(value)"
   ]
  },
  {
   "cell_type": "markdown",
   "id": "05db0d44",
   "metadata": {},
   "source": [
    "10. Why does this expression cause an error? How can you fix it?\n",
    "'I have eaten ' + 99 + ' burritos.'\n",
    "\n",
    "Ans- This expression will cause the error, because in this we tried thc concatination of string and integer, which is not possible, we can fix the issue by following ways.\n",
    "1.'I have eaten ' + '99' + ' burritos.'\n",
    "2.'I have eaten ' + str(99) + ' burritos.'"
   ]
  }
 ],
 "metadata": {
  "kernelspec": {
   "display_name": "Python 3 (ipykernel)",
   "language": "python",
   "name": "python3"
  },
  "language_info": {
   "codemirror_mode": {
    "name": "ipython",
    "version": 3
   },
   "file_extension": ".py",
   "mimetype": "text/x-python",
   "name": "python",
   "nbconvert_exporter": "python",
   "pygments_lexer": "ipython3",
   "version": "3.10.9"
  }
 },
 "nbformat": 4,
 "nbformat_minor": 5
}
