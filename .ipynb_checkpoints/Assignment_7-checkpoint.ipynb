{
 "cells": [
  {
   "cell_type": "markdown",
   "id": "93c8d12f",
   "metadata": {},
   "source": [
    "1. Create two int type variables, apply addition, subtraction, division and multiplications and store the results in variables. Then print the data in the following format by calling the variables:\n",
    "First variable is __ & second variable is __.\n",
    "Addition: __ + __ = __\n",
    "Subtraction: __ - __ = __\n",
    "Multiplication: __ * __ = __\n",
    "Division: __ / __ = __\n",
    "\n",
    "Ans-\n",
    "\n",
    "first_var = int(input(\"Enter the first number: \"))\n",
    "second_var = int(input(\"Enter the second number: \"))\n",
    "\n",
    "addition = first_var + second_var\n",
    "subtraction = first_var - second_var\n",
    "multiplication = first_var * second_var\n",
    "divison = first_var / second_var\n",
    "\n",
    "print(f\"Addition: {first_var} + {second_var} second_var = {addition}\")\n",
    "print(f\"Subtraction: {first_var} + {second_var} second_var ={subtraction}\")\n",
    "print(f\"Multiplication:  {first_var} + {second_var} second_var ={multiplication}\")\n",
    "print(f\"Division:  {first_var} + {second_var} second_var = {divison}\")\n"
   ]
  },
  {
   "cell_type": "markdown",
   "id": "c0323574",
   "metadata": {},
   "source": [
    "2. What is the difference between the following operators:\n",
    "(i) ‘/’ & ‘//’\n",
    "(ii) ‘**’ & ‘^’\n",
    "\n",
    "Ans- \n",
    "i) ‘/’  - Performing divison and will give output in float/decimal number.\n",
    "   ‘//’ - Performing divison and will give output as Integer.\n",
    "ii) ‘**’ - This work as exponentiation operator.\n",
    "     ‘^’ - This work as Bitwise Operator, This converts each operand into binary then perform operation.\n"
   ]
  },
  {
   "cell_type": "markdown",
   "id": "654f0d93",
   "metadata": {},
   "source": [
    "3. List the logical operators.\n",
    "\n",
    "Ans-\n",
    "\n",
    "AND (&&) : AND Operator will return True if both Values/Statements are True.\n",
    "\n",
    "OR (||) : OR Operator will return True if any one value/statement is True.\n",
    "\n",
    "NOT (!) : NOT Operator will reverse the result, It will give output as False if the result is True.\n",
    "\n",
    "XOR (^) : This will return True if Operands have different Boolean values, will get False if Both operands are either True or False.\n",
    "\n",
    "NAND : NAND Operator will returns true if at least one of the operands is false. This will work exactly opposite of AND Operator.\n",
    "\n",
    "NOR : NOR Operator will returns true if both operands are false. This will work exactly opposite of OR Operator.\n"
   ]
  },
  {
   "cell_type": "markdown",
   "id": "cf9ce21a",
   "metadata": {},
   "source": [
    "4. Explain right shift operator and left shift operator with examples.\n",
    "\n",
    "Ans-\n",
    "\n",
    "Left shift Operator(<<): Left shift Operator moves a bit of an integer type expression to the left.\n",
    "\n",
    "Right shift Operator(>>): Right shift Operator moves the bit to the right.\n"
   ]
  },
  {
   "cell_type": "markdown",
   "id": "4d5f8a37",
   "metadata": {},
   "source": [
    "5. Create a list containing int type data of length 15. Then write a code to check if 10 is present in the list or not.\n",
    "\n",
    "Ans-\n",
    "\n",
    "list1 = [2,4,6,8,10,12,14,18,20,22,24,26,28,30,32]\n",
    "if 10 in list1:\n",
    "    print('Yes, Present!') \n",
    "else:\n",
    "    print('No!')\n"
   ]
  }
 ],
 "metadata": {
  "kernelspec": {
   "display_name": "Python 3 (ipykernel)",
   "language": "python",
   "name": "python3"
  },
  "language_info": {
   "codemirror_mode": {
    "name": "ipython",
    "version": 3
   },
   "file_extension": ".py",
   "mimetype": "text/x-python",
   "name": "python",
   "nbconvert_exporter": "python",
   "pygments_lexer": "ipython3",
   "version": "3.10.9"
  }
 },
 "nbformat": 4,
 "nbformat_minor": 5
}
