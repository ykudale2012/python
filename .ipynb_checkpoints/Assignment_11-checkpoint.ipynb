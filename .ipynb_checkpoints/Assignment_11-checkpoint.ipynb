{
 "cells": [
  {
   "cell_type": "markdown",
   "id": "e02e1ee1-62ab-4167-9c7f-ca06894a93fc",
   "metadata": {},
   "source": [
    "1. What is the role of the 'else' block in a try-except statement? Provide an example\r\n",
    "scenario where it would be useful.\n",
    "Ans-\n",
    "n type and a timestamp."
   ]
  },
  {
   "cell_type": "markdown",
   "id": "efd38615-9a51-4373-89ad-6d80a6eac0fb",
   "metadata": {},
   "source": [
    "2. Can a try-except block be nested inside another try-except block? Explain with an\n",
    "example.\n",
    "\n",
    "Ans-\n"
   ]
  },
  {
   "cell_type": "markdown",
   "id": "9e519d97-8262-439f-a734-eaf7dae2fe83",
   "metadata": {},
   "source": [
    "3. How can you create a custom exception class in Python? Provide an example that\n",
    "demonstrates its usage.\n",
    "\n",
    "Ans-\n"
   ]
  },
  {
   "cell_type": "markdown",
   "id": "5734c9bc-a29d-4582-915b-86811b0919f6",
   "metadata": {},
   "source": [
    "4. What are some common exceptions that are built-in to Python?\n",
    "\n",
    "Ans-\n"
   ]
  },
  {
   "cell_type": "markdown",
   "id": "fc3b6be8-ff8b-4c59-8385-34312f02b89b",
   "metadata": {},
   "source": [
    "5. What is logging in Python, and why is it important in software development?\n",
    "\n",
    "Ans-\n"
   ]
  },
  {
   "cell_type": "markdown",
   "id": "4528a882-528e-4af7-904e-40e12d01c92b",
   "metadata": {},
   "source": [
    "6. Explain the purpose of log levels in Python logging and provide examples of when\n",
    "each log level would be appropriate.\n",
    "\n",
    "Ans-\n"
   ]
  },
  {
   "cell_type": "markdown",
   "id": "666cf640-c58b-499f-b48b-09ac9b2fa6f6",
   "metadata": {},
   "source": [
    "7. What are log formatters in Python logging, and how can you customise the log\n",
    "message format using formatters?\n",
    "\n",
    "Ans-\n"
   ]
  },
  {
   "cell_type": "markdown",
   "id": "dfc7442e-7370-46ee-b3e4-1a98742350b3",
   "metadata": {},
   "source": [
    "8. How can you set up logging to capture log messages from multiple modules or\n",
    "classes in a Python application?\n",
    "\n",
    "Ans-\n"
   ]
  },
  {
   "cell_type": "markdown",
   "id": "4efa27b5-7998-4ce0-a0d9-a61ab5f5e2a7",
   "metadata": {},
   "source": [
    "9. What is the difference between the logging and print statements in Python? When\n",
    "should you use logging over print statements in a real-world application?\n",
    "\n",
    "Ans-\n"
   ]
  },
  {
   "cell_type": "markdown",
   "id": "8ef8ff83-287e-4ab1-a049-23a1d5fb25c3",
   "metadata": {},
   "source": [
    "10. Write a Python program that logs a message to a file named \"app.log\" with the\n",
    "following requirements:\n",
    "● The log message should be \"Hello, World!\"\n",
    "● The log level should be set to \"INFO.\"\n",
    "● The log file should append new log entries without overwriting previous ones.\n",
    "\n",
    "Ans-\n"
   ]
  },
  {
   "cell_type": "markdown",
   "id": "63785aaf-b95a-48c2-a8dd-adecc08f6e3f",
   "metadata": {},
   "source": [
    "11. Create a Python program that logs an error message to the console and a file named\n",
    "\"errors.log\" if an exception occurs during the program's execution. The error\n",
    "message should include the exception type and a timestamp.\n",
    "\n",
    "Ans-\n"
   ]
  }
 ],
 "metadata": {
  "kernelspec": {
   "display_name": "Python 3 (ipykernel)",
   "language": "python",
   "name": "python3"
  },
  "language_info": {
   "codemirror_mode": {
    "name": "ipython",
    "version": 3
   },
   "file_extension": ".py",
   "mimetype": "text/x-python",
   "name": "python",
   "nbconvert_exporter": "python",
   "pygments_lexer": "ipython3",
   "version": "3.8.17"
  }
 },
 "nbformat": 4,
 "nbformat_minor": 5
}
