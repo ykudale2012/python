{
 "cells": [
  {
   "cell_type": "markdown",
   "id": "92cb2b59",
   "metadata": {},
   "source": [
    "1. What is a lambda function in Python, and how does it differ from a regular function?\n",
    "\n",
    "Ans-\n",
    "Lambda is an Anonymous Function. We can define it without a name and It can take any number of arguments. We define Lambda function using Lambda keyword."
   ]
  },
  {
   "cell_type": "markdown",
   "id": "231b7674",
   "metadata": {},
   "source": [
    "2. Can a lambda function in Python have multiple arguments? If yes, how can you define and use them?\n",
    "\n",
    "Ans-\n",
    "Yes, a lambda function in Python can have multiple arguments.\n",
    "lm = lambda x, y, z : x + y * z\n",
    "rs = lm(1,2,3)"
   ]
  },
  {
   "cell_type": "markdown",
   "id": "7630740b",
   "metadata": {},
   "source": [
    "3. How are lambda functions typically used in Python? Provide an example use case\n",
    "\n",
    "Ans-\n",
    "a = lambda x:x+x \n",
    "a(5)"
   ]
  },
  {
   "cell_type": "markdown",
   "id": "8b413171",
   "metadata": {},
   "source": [
    "4. What are the advantages and limitations of lambda functions compared to regular functions in Python?\n",
    "\n",
    "Ans-\n",
    "Advantages\n",
    "Lambda will have single line of code, we dont need to write complex structures like loops.\n",
    "\n",
    "Easy to understand and Readable as it is expressed in single line.\n",
    "\n",
    "We can define it without a name and It can take any number of arguments.\n",
    "\n",
    "Limitations\n",
    "lambda function cannot have a docstring.\n",
    "\n",
    "It can take maximum time to run is 15 minutes and minimum can be upto 3 seconds."
   ]
  },
  {
   "cell_type": "markdown",
   "id": "edae722c",
   "metadata": {},
   "source": [
    "5. Are lambda functions in Python able to access variables defined outside of their own scope? Explain with an example.\n",
    "\n",
    "Ans-\n",
    "Yes, Lambda function can access the variables out side there scopes.\n",
    "\n",
    "e.g- \n",
    "x=15\n",
    "    \n",
    "lambda_fun = lambda y: x + y\n",
    "    \n",
    "result = result = lambda_fun(5)\n",
    "\n",
    "print(result) \n",
    "\n",
    "In above example we have created the x variable with value 15, ad we ar accessing it in side the lambda."
   ]
  },
  {
   "cell_type": "markdown",
   "id": "de0cd96f",
   "metadata": {},
   "source": [
    "6. Write a lambda function to calculate the square of a given number.\n",
    "\n",
    "Ans-\n",
    "x=10\n",
    "ss = lambda x:x**2\r\n",
    "print(ss(x))"
   ]
  },
  {
   "cell_type": "markdown",
   "id": "e0c7a46b",
   "metadata": {},
   "source": [
    "7. Create a lambda function to find the maximum value in a list of integers.\n",
    "\n",
    "Ans-\n",
    "list1 = [1,3,4,6,7,9,5,109]\r\n",
    "mx = lambda x:max(x)\r\n",
    "mx(list1)"
   ]
  },
  {
   "cell_type": "markdown",
   "id": "68cf2ccc",
   "metadata": {},
   "source": [
    "8. Implement a lambda function to filter out all the even numbers from a list of integers.\n",
    "\n",
    "Ans-\n",
    "nums = [1,2,3,4,5,6,7,8,9,10]\r\n",
    "en = list(filter(lambda x:x%2 == 0, nums))\r\n",
    "print(en)"
   ]
  },
  {
   "cell_type": "markdown",
   "id": "b7c67c59",
   "metadata": {},
   "source": [
    "9. Write a lambda function to sort a list of strings in ascending order based on the length of each string.\n",
    "\n",
    "Ans-\n",
    "strr = ['Yogesh', 'Pranay', 'TAjay', 'Akash']\r\n",
    "asc = sorted(strr, key = lambda x:len(x))\r\n",
    "asc"
   ]
  },
  {
   "cell_type": "markdown",
   "id": "2f35995a",
   "metadata": {},
   "source": [
    "10. Create a lambda function that takes two lists as input and returns a new list containing the common elements between the two lists.\n",
    "\n",
    "Ans-\n",
    "l1 = [1,2,3,4,5,6]\r\n",
    "l2 = [5,6,7,8,9,1]\r\n",
    "\r\n",
    "cm = lambda x, y: [i for i in l1 if i in l2]\r\n",
    "print(cm(l1, l2))"
   ]
  },
  {
   "cell_type": "markdown",
   "id": "e408ceec",
   "metadata": {},
   "source": [
    "11. Write a recursive function to calculate the factorial of a given positive integer.\n",
    "\n",
    "Ans-\n",
    "def facto(n):\r\n",
    "    if n < 0:\r\n",
    "        return 'Its Invalid'\r\n",
    "    elif n == 0 or n == 1:\r\n",
    "        return 1\r\n",
    "    else:\r\n",
    "        return n * facto(n - 1)\r\n",
    "    \r\n",
    "facto(5)"
   ]
  },
  {
   "cell_type": "markdown",
   "id": "92977848",
   "metadata": {},
   "source": [
    "12. Implement a recursive function to compute the nth Fibonacci number.\n",
    "\n",
    "Ans-\n",
    "def febo(n):\r\n",
    "    if n <= 0:\r\n",
    "        return 'Its Invalid'\r\n",
    "    elif n == 1:\r\n",
    "        return 0\r\n",
    "    elif n == 2:\r\n",
    "        return 1 \r\n",
    "    else:\r\n",
    "        return febo(n-1)+febo(n-2)\r\n",
    "    \r\n",
    "febo(9)"
   ]
  },
  {
   "cell_type": "markdown",
   "id": "bacb13d1",
   "metadata": {},
   "source": [
    "13. Create a recursive function to find the sum of all the elements in a given list.\n",
    "\n",
    "Ans-\n",
    "list1 = [1,2,3,4,5,6]\r\n",
    "def sum_ele(list1):\r\n",
    "    if not list1:\r\n",
    "        return 0\r\n",
    "    else:\r\n",
    "        return list1[0]+sum_ele(list1[1:])\r\n",
    "    \r\n",
    "sum_ele(list1)"
   ]
  },
  {
   "cell_type": "markdown",
   "id": "657174aa",
   "metadata": {},
   "source": [
    "14. Write a recursive function to determine whether a given string is a palindrome.\n",
    "\n",
    "Ans-\n",
    "def is_palindrome(strr):\r\n",
    "    return strr == strr[::-1]\r\n",
    "\r\n",
    "strr1 = input('Enter the string1: ')\r\n",
    "\r\n",
    "if is_palindrome(strr1):\r\n",
    "    print('Yes, Palindrome!')\r\n",
    "else:\r\n",
    "    print('Not Palindrome!')\r\n",
    "\r\n",
    "res = is_palindrome(strr1)\r\n",
    "print(res)"
   ]
  },
  {
   "cell_type": "markdown",
   "id": "29f6a9bb",
   "metadata": {},
   "source": [
    "15. Implement a recursive function to find the greatest common divisor (GCD) of two positive integers.\n",
    "\n",
    "Ans-\n",
    "def find_GCD(a, b):\r\n",
    "    if a == b:\r\n",
    "        return a\r\n",
    "    elif a > b:\r\n",
    "        return find_GCD(a-b, b)\r\n",
    "    else:\r\n",
    "        return find_GCD(b, b-a)\r\n",
    "num1 = int(input('Enter 1st number: '))\r\n",
    "num2 = int(input('Enter 2nd number: '))\r\n",
    "find_GCD(num1, num2)"
   ]
  }
 ],
 "metadata": {
  "kernelspec": {
   "display_name": "Python 3 (ipykernel)",
   "language": "python",
   "name": "python3"
  },
  "language_info": {
   "codemirror_mode": {
    "name": "ipython",
    "version": 3
   },
   "file_extension": ".py",
   "mimetype": "text/x-python",
   "name": "python",
   "nbconvert_exporter": "python",
   "pygments_lexer": "ipython3",
   "version": "3.8.17"
  }
 },
 "nbformat": 4,
 "nbformat_minor": 5
}
