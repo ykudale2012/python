{
 "cells": [
  {
   "cell_type": "markdown",
   "id": "d2eb259a",
   "metadata": {},
   "source": [
    "1. What are the two values of the Boolean data type? How do you write them?\n",
    "\n",
    "Ans-\n",
    " Boolean sdata type have true and false values, and we can write it by following ways.\n",
    "\n",
    "1. flag=true\n",
    "\n",
    "2. flag=false\n"
   ]
  },
  {
   "cell_type": "markdown",
   "id": "131a010e",
   "metadata": {},
   "source": [
    "2. What are the three different types of Boolean operators?\n",
    "\n",
    "Ans- Following are the three different types of Boolean operators\n",
    "\n",
    "1. AND : AND Operator will return True if both Values/Statements are True.\n",
    "\n",
    "2. OR : OR Operator will return True if any one value/statement is True.\n",
    "\n",
    "3. NOT : NOT Operator will reverse the result, It will give output as False if the result is True."
   ]
  },
  {
   "cell_type": "markdown",
   "id": "2980563c",
   "metadata": {},
   "source": [
    "3. Make a list of each Boolean operator's truth tables (i.e. every possible combination of Boolean values for the operator and what it evaluate ).\n",
    "\n",
    "1. AND\n",
    "   I/P1    I/P2    O/P\n",
    "   true    true    :true\n",
    "   true    false   :false\n",
    "   false   true    :false\n",
    "   false   false   :false\n",
    "   \n",
    "  \n",
    "2. OR\n",
    "    I/P1    I/P2    O/P\n",
    "    true    true    :true\n",
    "    true    false   :true\n",
    "    false   true    :true\n",
    "    false   false   :false\n",
    "    \n",
    "\n",
    "3. NOT\n",
    "    I/P      O/P\n",
    "    true    :false\n",
    "    false   :true\n"
   ]
  },
  {
   "cell_type": "markdown",
   "id": "47eb675c",
   "metadata": {},
   "source": [
    "4. What are the values of the following expressions?\n",
    "\n",
    "Ans-\n",
    "   (5 > 4) and (3 == 5)                :false\n",
    "   not (5 > 4)                         :false\n",
    "   (5 > 4) or (3 == 5)                 :true\n",
    "   not ((5 > 4) or (3 == 5))           :false\n",
    "   (True and True) and (True == False) :false\n",
    "   (not False) or (not True)           :true\n"
   ]
  },
  {
   "cell_type": "markdown",
   "id": "a5e64033",
   "metadata": {},
   "source": [
    "5. What are the six comparison operators?\n",
    "\n",
    "Ans- the six comparison operators are\n",
    "1. equal to (==)                 eg. 10==5\n",
    "2. not equal (!=)                eg. 10!=5\n",
    "3. greater than (>)              eg. 10>5\n",
    "4. less than (<)                 eg. 10<5\n",
    "5. greater than or equal (>=)    eg. 10>=5\n",
    "6. less than or equal (<=)       eg. 10<=5"
   ]
  },
  {
   "cell_type": "markdown",
   "id": "a117693c",
   "metadata": {},
   "source": [
    "6. How do you tell the difference between the equal to and assignment operators?Describe a condition and when you would use one.\n",
    "\n",
    "Ans-\n",
    "Equal to is the comparison operator,  whcih will be used to compare the data, and return the result in boolan, whereas assignment operator is used to assign the values to any data member ot variable.\n",
    "1. equal to examples\n",
    "   -eg 1. 10==10 : it will return true\n",
    "   -eg 2. 10==5  : it will return false\n",
    "2. assignment operator examples\n",
    "   -eg 1. age=10\n",
    "   -eg 2. flag=false\n",
    "   -eg 3 percentage=83.5"
   ]
  },
  {
   "cell_type": "markdown",
   "id": "007aa131",
   "metadata": {},
   "source": [
    "7. Identify the three blocks in this code:\n",
    "spam = 0\n",
    "if spam == 10:\n",
    "print('eggs')\n",
    "if spam > 5:\n",
    "print('bacon')\n",
    "else:\n",
    "print('ham')\n",
    "print('spam')\n",
    "print('spam')\n",
    "\n",
    "Ans- In above code if spam == 10: this is the 1st block\n",
    "     if spam > 5: this is the 2nd block\n",
    "     else:        this is the 3rd block    "
   ]
  },
  {
   "cell_type": "markdown",
   "id": "1b5b392a",
   "metadata": {},
   "source": [
    "8. Write code that prints Hello if 1 is stored in spam, prints Howdy if 2 is stored in spam, and prints Greetings! if anything else is stored in spam.\n",
    "\n",
    "Ans-\n",
    "\n",
    "spam = 1\n",
    "if spam == 1:\n",
    "    print('Hello')\n",
    "elif spam == 2:\n",
    "    print('Howdy')\n",
    "else:\n",
    "    print('Greetings!')"
   ]
  },
  {
   "cell_type": "markdown",
   "id": "587ed52d",
   "metadata": {},
   "source": [
    "9. If your programme is stuck in an endless loop, what keys you’ll press?\n",
    "\n",
    "Ans-\n",
    "ctrl + c"
   ]
  },
  {
   "cell_type": "markdown",
   "id": "8225e7bb",
   "metadata": {},
   "source": [
    "10. How can you tell the difference between break and continue?\n",
    "\n",
    "Ans-\n",
    "break- break we can use to terminate the remaning iterations of the loop, it means after the break statement executes it will stop executing the remaining code of that iteration and also will not execute remaning iterations.\n",
    "\n",
    "continue- we can use continue to stop executing the remaming code in current iteration only and go for next iteration."
   ]
  },
  {
   "cell_type": "markdown",
   "id": "659dd46c",
   "metadata": {},
   "source": [
    "11. In a for loop, what is the difference between range(10), range(0, 10), and range(0, 10, 1)?\n",
    "\n",
    "Ans- above all llops will give same output, because\n",
    "range(10) - this will start for 0 -9 \n",
    "range(0, 10) - same here\n",
    "range(0, 10, 1) - this will also start from 0 to next 10 i.e upto 9, after every iteration it will increase by 1"
   ]
  },
  {
   "cell_type": "markdown",
   "id": "6608f801",
   "metadata": {},
   "source": [
    "12. Write a short program that prints the numbers 1 to 10 using a for loop. Then write an equivalent program that prints the numbers 1 to 10 using a while loop.\n",
    "\n",
    "1. for i in range(1,11,1):\n",
    "     print(i)\n",
    "    \n",
    "2. i=1\n",
    "   while i<=10:\n",
    "     print(i)\n",
    "     i=i+1"
   ]
  },
  {
   "cell_type": "markdown",
   "id": "4a9e4901",
   "metadata": {},
   "source": [
    "13. If you had a function named bacon() inside a module named spam, how would you call it after importing spam?\n",
    "\n",
    "Ans-\n",
    "spam.bacon()"
   ]
  }
 ],
 "metadata": {
  "kernelspec": {
   "display_name": "Python 3 (ipykernel)",
   "language": "python",
   "name": "python3"
  },
  "language_info": {
   "codemirror_mode": {
    "name": "ipython",
    "version": 3
   },
   "file_extension": ".py",
   "mimetype": "text/x-python",
   "name": "python",
   "nbconvert_exporter": "python",
   "pygments_lexer": "ipython3",
   "version": "3.10.9"
  }
 },
 "nbformat": 4,
 "nbformat_minor": 5
}
