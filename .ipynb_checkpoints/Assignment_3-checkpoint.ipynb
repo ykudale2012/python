{
 "cells": [
  {
   "cell_type": "markdown",
   "id": "1d023bf0",
   "metadata": {},
   "source": [
    "1. Why are functions advantageous to have in your programs?\n",
    "\n",
    "Ans-\n",
    "writing functions will increase the code readability, coding standard and code reusability, we can write the functions in the generic manner and use it from multiple places, with this we are using one block of code again and again."
   ]
  },
  {
   "cell_type": "markdown",
   "id": "8da33ad9",
   "metadata": {},
   "source": [
    "2. When does the code in a function run: when it's specified or when it's called?\n",
    "\n",
    "Ans- Didn't understood the question"
   ]
  },
  {
   "cell_type": "markdown",
   "id": "35bae489",
   "metadata": {},
   "source": [
    "3. What statement creates a function?\n",
    "\n",
    "Ans-\n",
    "def is used to create the function. syntax- def <function_name>() :"
   ]
  },
  {
   "cell_type": "markdown",
   "id": "4111d0c1",
   "metadata": {},
   "source": [
    "4. What is the difference between a function and a function call?\n",
    "\n",
    "Ans-\n",
    "function- it is the block of code, that block of code we call as function, function we can write with def <function_name>: , we can also give the n number of input parameters to the function and also retun any one value from the function.\n",
    "\n",
    "function call- it means there will be some predefined or user defined functions in our program, whcih will have some block of code, if you want to execute that code then you have to call that function. syntax : function_name()\n",
    "\n",
    "Note- if function is from different package then firstly you need to import that package then you can call the function by package_name.function_name();\n"
   ]
  },
  {
   "cell_type": "markdown",
   "id": "a2b99a80",
   "metadata": {},
   "source": [
    "5. How many global scopes are there in a Python program? How many local scopes?\n",
    "\n",
    "Ans-\n",
    "In python only one global scope is there, but we can have n number of local scopes depending on the functions and loops execution, local scope will be created only at the time of execution.\n"
   ]
  },
  {
   "cell_type": "markdown",
   "id": "16f16264",
   "metadata": {},
   "source": [
    "6. What happens to variables in a local scope when the function call returns?\n",
    "\n",
    "Ans-\n",
    "Local variable will get destroyed when function execution is done.\n"
   ]
  },
  {
   "cell_type": "markdown",
   "id": "c488252b",
   "metadata": {},
   "source": [
    "7. What is the concept of a return value? Is it possible to have a return value in an expression?\n",
    "\n",
    "Ans-\n",
    "return is the statement, that we can use in function to return the result or any value back to the caller. syntax : return value.\n",
    "\n",
    "Yes, we can retun values in expresiion also, but it will return the result of that expression."
   ]
  },
  {
   "cell_type": "markdown",
   "id": "59225964",
   "metadata": {},
   "source": [
    "8. If a function does not have a return statement, what is the return value of a call to that function?\n",
    "\n",
    "Ans-\n",
    "if the return statement is not available in the function the it will return \"none\", \"none\" it is a special object in python, non means absence of a value."
   ]
  },
  {
   "cell_type": "markdown",
   "id": "02204d5f",
   "metadata": {},
   "source": [
    "9. How do you make a function variable refer to the global variable?\n",
    "\n",
    "Ans- \n",
    "We can use keyword named \"global\" to define the variable as global inside the function.\n"
   ]
  },
  {
   "cell_type": "markdown",
   "id": "bdf39a4a",
   "metadata": {},
   "source": [
    "10. What is the data type of None?\n",
    "\n",
    "Ans-\n",
    "NoneType is a data type of None.\n"
   ]
  },
  {
   "cell_type": "markdown",
   "id": "fa512c9b",
   "metadata": {},
   "source": [
    "11. What does the sentence import a really areallyourpetsnamederic do?\n",
    "\n",
    "Ans-\n",
    "\n",
    "Didn't understood the question, because import we write follwed by package name. synntax import package_name, but in above question after import keyword 4 words are written, if \"a\" is a module then it will import a.\n"
   ]
  },
  {
   "cell_type": "markdown",
   "id": "342ddadf",
   "metadata": {},
   "source": [
    "12. If you had a bacon() feature in a spam module, what would you call it after importing spam?\n",
    "\n",
    "Ans-\n",
    "spam.bacon()"
   ]
  },
  {
   "cell_type": "markdown",
   "id": "4138eab2",
   "metadata": {},
   "source": [
    "13. What can you do to save a programme from crashing if it encounters an error?\n",
    "\n",
    "Ans-\n",
    "We can use the exception handling, try and except block for handling the errors and crashing.\n"
   ]
  },
  {
   "cell_type": "markdown",
   "id": "0d6bebca",
   "metadata": {},
   "source": [
    "14. What is the purpose of the try clause? What is the purpose of the except clause?\n",
    "\n",
    "Ans-\n",
    "\n",
    "try clause- it is basicalyy used to write the code inside try which have the possibility of coming the error at runtime.\n",
    "\n",
    "except- if any error occures inside the try block then execution will come inside the except block, so we can write the error handling related code in except block.\n"
   ]
  }
 ],
 "metadata": {
  "kernelspec": {
   "display_name": "Python 3 (ipykernel)",
   "language": "python",
   "name": "python3"
  },
  "language_info": {
   "codemirror_mode": {
    "name": "ipython",
    "version": 3
   },
   "file_extension": ".py",
   "mimetype": "text/x-python",
   "name": "python",
   "nbconvert_exporter": "python",
   "pygments_lexer": "ipython3",
   "version": "3.10.9"
  }
 },
 "nbformat": 4,
 "nbformat_minor": 5
}
