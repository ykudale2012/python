{
 "cells": [
  {
   "cell_type": "markdown",
   "id": "bbe748f8",
   "metadata": {},
   "source": [
    "1. In Python, what is the difference between a built-in function and a user-defined function? Provide an example of each.\n",
    "\n",
    "Ans-\n",
    "Built-in Function : Built-in function are those which are already defined in Python Libraries.\n",
    "\n",
    "a = 'Data science'\n",
    "print(len(a))\n",
    "\n",
    "In above code, print() & len() are built-in functions.\n",
    "\n",
    "User-defined Function : User defined Function are created by user to perform specific task. By making the user defined functions we resuse the code by calloing that function.\n",
    "\n",
    "def add(x, y):\n",
    "    num = x + y\n",
    "    return num"
   ]
  },
  {
   "cell_type": "markdown",
   "id": "e1ba6680",
   "metadata": {},
   "source": [
    "2. How can you pass arguments to a function in Python? Explain the difference between positional arguments and keyword arguments.\n",
    "\n",
    "Ans-\n",
    "\n",
    "Arguments can be passed after the function name and inside the paranthesis ( ).\n",
    "\n",
    "Positional Arguments : Positional arguments are interrelated with function parameters based on their position or order without specifying the parameter name. It is not followed by '=' and a default value.\n",
    "\n",
    "\n",
    "Keyword Arguments : Keyword arguments are interrelated based on their names. It is followed by an equal sign '=' and expression will provide its default value."
   ]
  },
  {
   "cell_type": "markdown",
   "id": "49887345",
   "metadata": {},
   "source": [
    "3. What is the purpose of the return statement in a function? Can a function have multiple return statements? Explain with an example.\n",
    "\n",
    "Ans-\n",
    "Return statement we use to return the value to caller function, we can have multiple return statements, but it should be inside the the conditional staement, because function can return only one value, once return statement get executed, the execution will go back to caller.\n",
    "\n",
    "def isGreater(a, b):\n",
    "    if a > b:\n",
    "        return f\"{a} is greater than {b}\"\n",
    "    elif a < b:\n",
    "        return f\"{a} is less than {b}\"\n",
    "    else:\n",
    "        return f\"{a} is equal to {b}\"\n"
   ]
  },
  {
   "cell_type": "markdown",
   "id": "4f787c9e",
   "metadata": {},
   "source": [
    "4. What are lambda functions in Python? How are they different from regular functions? Provide an example where a lambda function can be useful.\n",
    "\n",
    "Ans-\n",
    "Lambda : Lambda function is an anonymous function which takes more number of arguments and evaluate but return only one expression.\n",
    "\n",
    "It is different from Regular function because-\n",
    "1.It contains only one single expression.\n",
    "2.It doesn't require function name like 'def' keyword, It consist of 'Lambda' keyword which has compact syntax followed by argument and a colon ' : '.\n",
    "\n",
    "sqr =  lambda x:x*x   \n",
    "sqr(5)  "
   ]
  },
  {
   "cell_type": "markdown",
   "id": "400436c8",
   "metadata": {},
   "source": [
    "5. How does the concept of \"scope\" apply to functions in Python? Explain the difference between local scope and global scope.\n",
    "\n",
    "Ans-\n",
    "\n",
    "Scope in Function determines the visibility and accessibility of variables. Variable defined inside the scope called as local scope and Variable defined outside of function called as global scope.\n",
    "\n",
    "Difference\n",
    "\n",
    "Local variable is only accessible when its declared while Global Variable is accessible from anywhere in the code.\n",
    "\n",
    "Local Variable is announced inside the function while Global Variable is announced outside the function.\n",
    "\n",
    "Local Variable doesn't provide data sharing while Global Variable provides data sharing.\n",
    "\n",
    "Parameter Passing is necessary for Local Variables but not for Global Variable."
   ]
  },
  {
   "cell_type": "markdown",
   "id": "d6b90d40",
   "metadata": {},
   "source": [
    "6. How can you use the \"return\" statement in a Python function to return multiple values?\n",
    "\n",
    "Ans-\n",
    "we can use return statement to return multiple values. simply by seperating them with commas.\n",
    "\n",
    "def summ(a, b):\n",
    "    add = a + b\n",
    "    mul = a * b\n",
    "    sub = a - b\n",
    "    div = a / b\n",
    "    return add, mul, sub, div\n",
    "    \n",
    "summ(10, 20)"
   ]
  },
  {
   "cell_type": "markdown",
   "id": "54080970",
   "metadata": {},
   "source": [
    "7. What is the difference between the \"pass by value\" and \"pass by reference\" concepts when it comes to function arguments in Python?\n",
    "\n",
    "Ans-\n",
    "\n",
    "Pass by Value : When we pass any value to the function, It will create a copy and if we do any changes to the copy of inside the function, it will not affect the original value of outside of the function.\n",
    "\n",
    "Pass by Reference: When an Object passed to the function, Function will receive the actual reference to the object. If we do any changes to the object inside the function will also affect the original object outside of the function."
   ]
  },
  {
   "cell_type": "markdown",
   "id": "4ebfca6c",
   "metadata": {},
   "source": [
    "8. Create a function that can intake integer or decimal value and do following operations:\n",
    "   a. Logarithmic function (log x)\n",
    "   b. Exponential function (exp(x))\n",
    "   c. Power function with base 2 (2x)\n",
    "   d. Square root\n",
    "\n",
    "Ans-\n",
    "import math\n",
    "num1 = float(input(\"Enter the number: \"))\n",
    "def Opr(num1):\n",
    "    LGR = math.log(num1)\n",
    "    EXP = math.exp(num1)\n",
    "    POW = math.pow(2, num1)\n",
    "    SQR = math.sqrt(num1)\n",
    "    return LGR, EXP, POW, SQR\n",
    "Opr(num1)"
   ]
  },
  {
   "cell_type": "markdown",
   "id": "d52ff97e",
   "metadata": {},
   "source": [
    "9. Create a function that takes a full name as an argument and returns first name and last name.\n",
    "\n",
    "Ans-\n",
    "\n",
    "def user_fun(full_name):\n",
    "    name = full_name.split()\n",
    "    return name[0],name[1]\n",
    "\n",
    "print(user_fun(\"Yogesh Kudale\"))"
   ]
  }
 ],
 "metadata": {
  "kernelspec": {
   "display_name": "Python 3 (ipykernel)",
   "language": "python",
   "name": "python3"
  },
  "language_info": {
   "codemirror_mode": {
    "name": "ipython",
    "version": 3
   },
   "file_extension": ".py",
   "mimetype": "text/x-python",
   "name": "python",
   "nbconvert_exporter": "python",
   "pygments_lexer": "ipython3",
   "version": "3.10.9"
  }
 },
 "nbformat": 4,
 "nbformat_minor": 5
}
