{
 "cells": [
  {
   "cell_type": "markdown",
   "id": "5e2f0b30",
   "metadata": {},
   "source": [
    "1. What does an empty dictionary's code look like?\n",
    "\n",
    "Ans- empty dictionary's code look like - my_dict={}\n"
   ]
  },
  {
   "cell_type": "markdown",
   "id": "60ad851c",
   "metadata": {},
   "source": [
    "2. What is the value of a dictionary value with the key 'foo' and the value 42?\n",
    "\n",
    "Ans- the value of a dictionary value with the key 'foo' and the value 42 is-\n",
    "my_dict = {'foo':42}\n"
   ]
  },
  {
   "cell_type": "markdown",
   "id": "893c3dd3",
   "metadata": {},
   "source": [
    "3. What is the most significant distinction between a dictionary and a list?\n",
    "\n",
    "Ans-\n",
    "List- it is a orderd collection\n",
    "      element will be accessed by index no\n",
    "      list allows duplicate value\n",
    "Dictionary- It is unordered collection\n",
    "            we can access the data by key\n",
    "            In dictionary, key should be unique\n"
   ]
  },
  {
   "cell_type": "markdown",
   "id": "7e15b3b8",
   "metadata": {},
   "source": [
    "4. What happens if you try to access spam['foo'] if spam is {'bar': 100}?\n",
    "\n",
    "Ans- As 'foo' key is not available in the dictionary, so whenever fetch such type of data by key we will get the KeyError.\n"
   ]
  },
  {
   "cell_type": "markdown",
   "id": "b7e4c986",
   "metadata": {},
   "source": [
    "5. If a dictionary is stored in spam, what is the difference between the expressions 'cat' in spam and 'cat' in spam.keys()?\n",
    "\n",
    "Ans- Above both expressions will check if the key 'cat' is present inside the dictionary, if present both will return true else false.\n"
   ]
  },
  {
   "cell_type": "markdown",
   "id": "aeb78894",
   "metadata": {},
   "source": [
    "6. If a dictionary is stored in spam, what is the difference between the expressions 'cat' in spam and 'cat' in spam.values()?\n",
    "\n",
    "Ans- Abobe 1st expression will check if the the 'cat' is available in key, if avaialbe the return treu else false,  and second expresion will check if the 'cat' is available inside the values,  if avaialbe the return treu else false\n"
   ]
  },
  {
   "cell_type": "markdown",
   "id": "2cb597ae",
   "metadata": {},
   "source": [
    "7. What is a shortcut for the following code?\n",
    "if 'color' not in spam:\n",
    "spam['color'] = 'black'\n",
    "\n",
    "Ans- spam.setdefault('color', 'black')\n"
   ]
  },
  {
   "cell_type": "markdown",
   "id": "3d475066",
   "metadata": {},
   "source": [
    "8. How do you \"pretty print\" dictionary values using which module and function?\n",
    "\n",
    "Ans- import pprint\n",
    "spam = {'name': 'Yogesh', 'course':'DS'}\n",
    "pprint.pprint(spam)\n"
   ]
  }
 ],
 "metadata": {
  "kernelspec": {
   "display_name": "Python 3 (ipykernel)",
   "language": "python",
   "name": "python3"
  },
  "language_info": {
   "codemirror_mode": {
    "name": "ipython",
    "version": 3
   },
   "file_extension": ".py",
   "mimetype": "text/x-python",
   "name": "python",
   "nbconvert_exporter": "python",
   "pygments_lexer": "ipython3",
   "version": "3.10.9"
  }
 },
 "nbformat": 4,
 "nbformat_minor": 5
}
