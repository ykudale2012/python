{
 "cells": [
  {
   "cell_type": "markdown",
   "id": "7e16a137",
   "metadata": {},
   "source": [
    "1. What exactly is []?\n",
    "\n",
    "Ans-\n",
    "[] it means empty list in python."
   ]
  },
  {
   "cell_type": "markdown",
   "id": "6d8e372f",
   "metadata": {},
   "source": [
    "2. In a list of values stored in a variable called spam, how would you assign the value 'hello' as the third value? (Assume [2, 4, 6, 8, 10] are in spam.)\n",
    "\n",
    "Ans-\n",
    "using below code snippest we can assign the 'hello' as the third value.\n",
    "spam[2] = 'hello' "
   ]
  },
  {
   "cell_type": "code",
   "execution_count": null,
   "id": "756462f8",
   "metadata": {},
   "outputs": [],
   "source": [
    "# Let's pretend the spam includes the list ['a', 'b', 'c', 'd'] for the next three queries."
   ]
  },
  {
   "cell_type": "markdown",
   "id": "6c60b86a",
   "metadata": {},
   "source": [
    "3. What is the value of spam[int(int('3' * 2) / 11)]?\n",
    "\n",
    "Ans- it will return 3rd index value, i.e 'd', because '3'*2 =33/11=3"
   ]
  },
  {
   "cell_type": "markdown",
   "id": "6471dcc3",
   "metadata": {},
   "source": [
    "4. What is the value of spam[-1]?\n",
    "\n",
    "Ans- it will return the last element of the list, as in python -1 points to last element of list, so the O/P will be 'd'."
   ]
  },
  {
   "cell_type": "markdown",
   "id": "fb3ad63a",
   "metadata": {},
   "source": [
    "5. What is the value of spam[:2]? \n",
    "\n",
    "Ans- here we have used the slicing upto 2, it means it will return all the element from the begining of the list up to 2nd index, so the O/P will be ['a', 'b']\n",
    "\n",
    "Note- in above snipest we used slicing upto 2, so it will retunr the list excluding 2nd index."
   ]
  },
  {
   "cell_type": "code",
   "execution_count": 20,
   "id": "cb912b88",
   "metadata": {},
   "outputs": [],
   "source": [
    "# Let's pretend bacon has the list [3.14, 'cat,' 11, 'cat,' True] for the next three questions."
   ]
  },
  {
   "cell_type": "markdown",
   "id": "9ce2f308",
   "metadata": {},
   "source": [
    "6. What is the value of bacon.index('cat')?\n",
    "\n",
    "Ans- It will return the index of 'cat' element, as index starts from 0, so on 0th index 3.14 is there and 1st index cat is there, so answer will be 1.\n",
    "\n",
    "Note- in above pretended list, there is one syntax error, adding corrected list below- [3.14, 'cat', 11, 'cat', True]"
   ]
  },
  {
   "cell_type": "markdown",
   "id": "192e1141",
   "metadata": {},
   "source": [
    "7. How does bacon.append(99) change the look of the list value in bacon?\n",
    "\n",
    "Ans- bacon.append(99) this snippest will add the '99' ate the end of the list, so updated lis will be - [3.14, 'cat', 11, 'cat', True, 99]\n",
    "\n",
    "Note- in above pretended list, there is one syntax error, adding corrected list below- [3.14, 'cat', 11, 'cat', True]"
   ]
  },
  {
   "cell_type": "markdown",
   "id": "1314d93f",
   "metadata": {},
   "source": [
    "8. How does bacon.remove('cat') change the look of the list in bacon?\n",
    "\n",
    "Ans- this snippest will remove the 1st occurence element of the 'cat' from the above list.\n",
    "\n",
    "Note- in above pretended list, there is one syntax error, adding corrected list below- [3.14, 'cat', 11, 'cat', True]"
   ]
  },
  {
   "cell_type": "markdown",
   "id": "69e9f19f",
   "metadata": {},
   "source": [
    "9. What are the list concatenation and list replication operators?\n",
    "\n",
    "Ans- we have '+' for list concatenation and '*' for replication."
   ]
  },
  {
   "cell_type": "markdown",
   "id": "6ff71866",
   "metadata": {},
   "source": [
    "10. What is difference between the list methods append() and insert()?\n",
    "\n",
    "Ans- append() function we can use to add the element at the end of the list.\n",
    "     insert() function we can use to insert the element in the specific position in the list."
   ]
  },
  {
   "cell_type": "markdown",
   "id": "189f174d",
   "metadata": {},
   "source": [
    "11. What are the two methods for removing items from a list?\n",
    "\n",
    "Ans- pop()- remove element by index number.\n",
    "     remove()- remove element by element value."
   ]
  },
  {
   "cell_type": "markdown",
   "id": "d9de09ee",
   "metadata": {},
   "source": [
    "12. Describe how list values and string values are identical.\n",
    "\n",
    "Ans-\n",
    "Indexing : Both Strings and Lists allows Indexing and It starts from 0 for both strings and lists.\n",
    "\n",
    "Slicing : Both supports Slicing. It allows to to fetch the portion of sequence by mentioning start and end index.\n",
    "\n",
    "Sequence of Elements : List is an ordered sequence of object types and Strings is an Ordered Sequence of characters."
   ]
  },
  {
   "cell_type": "markdown",
   "id": "e51bb83c",
   "metadata": {},
   "source": [
    "13. What's the difference between tuples and lists?\n",
    "\n",
    "Ans-\n",
    "List : Mutable, Consumes more memory, Operations like deletion and insertion easily performed.\n",
    "\n",
    "Tuples : Immutable, Consumes less memory, Elements can be accessed easily."
   ]
  },
  {
   "cell_type": "markdown",
   "id": "c4e9041b",
   "metadata": {},
   "source": [
    "14. How do you type a tuple value that only contains the integer 42?\n",
    "\n",
    "Ans- By using following code we can do it.\n",
    "\n",
    "tp = (42,)"
   ]
  },
  {
   "cell_type": "markdown",
   "id": "0fc0da16",
   "metadata": {},
   "source": [
    "15. How do you get a list value's tuple form? How do you get a tuple value's list form?\n",
    "\n",
    "Ans- by casting the list to tuple and tuple to list we can do it, added the code snippest for the same.\n",
    "list1 = [1,2,3,4,5,6,7,8]\n",
    "tpl = tuple(list1)\n",
    "tpl\n",
    "\n",
    "list2=list(tpl)\n",
    "list2"
   ]
  },
  {
   "cell_type": "markdown",
   "id": "3beed032",
   "metadata": {},
   "source": [
    "16. Variables that \"contain\" list values are not necessarily lists themselves. Instead, what do they contain?\n",
    "\n",
    "Ans-"
   ]
  },
  {
   "cell_type": "markdown",
   "id": "adf11b65",
   "metadata": {},
   "source": [
    "17. How do you distinguish between copy.copy() and copy.deepcopy()?\n",
    "\n",
    "Ans-\n",
    "copy.copy(): It is a shallow copy which create reference to original object. If we change to copied object that will change to original object automatically.\n",
    "\n",
    "copy.deepcopy(): deepcopy() creates a new object and does really copying the original object to new one. Changing new object doesnot affect the original copy."
   ]
  }
 ],
 "metadata": {
  "kernelspec": {
   "display_name": "Python 3 (ipykernel)",
   "language": "python",
   "name": "python3"
  },
  "language_info": {
   "codemirror_mode": {
    "name": "ipython",
    "version": 3
   },
   "file_extension": ".py",
   "mimetype": "text/x-python",
   "name": "python",
   "nbconvert_exporter": "python",
   "pygments_lexer": "ipython3",
   "version": "3.10.9"
  }
 },
 "nbformat": 4,
 "nbformat_minor": 5
}
