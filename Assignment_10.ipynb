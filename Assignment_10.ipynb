{
 "cells": [
  {
   "cell_type": "markdown",
   "id": "6b2c8964-114d-4773-96e3-4e2b03d2b8fe",
   "metadata": {},
   "source": [
    "1. What is the role of try and exception block?\r\n",
    "Ans-\n",
    "Try and exception block we use to handle the exception raised by the program there are some lines of codes where the exception will occur, such lines we will write inside the try block, and that exception-related code we can write in the except block, like this we will avoid abnormal termination of our code. handle any exception"
   ]
  },
  {
   "cell_type": "markdown",
   "id": "787e8782-e31b-4cf0-b41c-d67f0c518b5c",
   "metadata": {},
   "source": [
    "2. What is the syntax for a basic try-except block?\n",
    "\n",
    "Ans-\n",
    "try:\r\n",
    "    # code where code will raisean  error\r\n",
    "    \r\n",
    "except ExceptionType:\r\n",
    "    # code to hathe ndle exceptiocept')"
   ]
  },
  {
   "cell_type": "markdown",
   "id": "a0a46272-dc94-43a4-8d66-37cb22109933",
   "metadata": {},
   "source": [
    "3. What happens if an exception occurs inside a try block and there is no matching except block?\n",
    "\n",
    "Ans-\n",
    "the program will terminate with an uncaught exception"
   ]
  },
  {
   "cell_type": "markdown",
   "id": "2dccce6d-e85b-4d60-bb51-e7fbc8c86ff8",
   "metadata": {},
   "source": [
    "4. What is the difference between using a bare except block and specifying a specific exception type?\n",
    "\n",
    "Ans-\n",
    "Bare 'Except' Block : This Block will catch the SystemExit and KeyboardInterrupt exceptions. It you want to catch all exception which indicate errors we can use except exception.\n",
    "\n",
    "Specific Exception type: Specific Exception type can be value error,memory error. this will allow us to handle and catch particular type of exception. This will give precise and targeted error handling based on specific exeption."
   ]
  },
  {
   "cell_type": "markdown",
   "id": "0b550d03-57e1-4a03-a202-92af077aa477",
   "metadata": {},
   "source": [
    "5. Can you have nested try-except blocks in Python? If yes, then give an example.\n",
    "\n",
    "Ans-\n",
    "Yes, We can have nested try-except blocks in python.\n",
    "\n",
    "try:\n",
    "    \n",
    "    print('outer try block')\n",
    "    \n",
    "    try:\n",
    "        print('Inner try block')\n",
    "        # a  = 10/0\n",
    "    except ZeroDivisionError:\n",
    "        print('Inner except block')\n",
    "        \n",
    "except:\n",
    "    print('Outer except block')"
   ]
  },
  {
   "cell_type": "markdown",
   "id": "d799e3d8-64d2-4512-b2ec-a38e47b7fd47",
   "metadata": {},
   "source": [
    "6. Can we use multiple exception blocks, if yes then give an example.\n",
    "\n",
    "Ans-\n",
    "Yes, we can have multiple exception blocks with different exception type.\n",
    "\n",
    "try:\n",
    "    a = 20/0\n",
    "except ZeroDivisionError:\n",
    "    print('Division Error')\n",
    "except ValueError:\n",
    "    print('Invalid value')\n",
    "except MemoryError:\n",
    "    print('Not Enough Memory')"
   ]
  },
  {
   "cell_type": "markdown",
   "id": "01927d8d-fb1d-4a11-af7f-6e34f22585e1",
   "metadata": {},
   "source": [
    "7. Write the reason due to which the following errors are raised:\n",
    "a. EOFError\n",
    "b. FloatingPointError\n",
    "c. IndexError\n",
    "d. MemoryError\n",
    "e. OverflowError\n",
    "f. TabError\n",
    "g. ValueError\n",
    "\n",
    "Ans-\n",
    "a.\n",
    "EOFError occurs when the input function reaches the end of file and tries to read more input. That means program expecting more input but encountered end of the file prematurely.\n",
    "\n",
    "b.\n",
    "FloatingPointError occurs when internal reresentation of floating point numbers which uses fixed number of binary digits to represent decimal number.\n",
    "\n",
    "c.\n",
    "Index Error occurs when a sequence subscript is out of range.\n",
    "\n",
    "d.\n",
    "Memory Error occurs when an Operations runs out of memory.\n",
    "\n",
    "e.\n",
    "OverflowError occurs when the result of an arithmetic operation is too large to be expressed by the normal number format.\n",
    "\n",
    "f.\n",
    "TabError occurs when inconsistent use of tabs and spaces in indentation and when we mix tabs and spaces in the same code block.\n",
    "\n",
    "g.\n",
    "ValueError occurs when a built-in operation or function receives an argument that has the right type but an inappropriate value."
   ]
  },
  {
   "cell_type": "code",
   "execution_count": null,
   "id": "024fada4-f401-4b5c-9ea0-192b8242050c",
   "metadata": {},
   "outputs": [],
   "source": [
    "8. Write code for the following given scenario and add try-exception block to it.\n",
    "a. Program to divide two numbers\n",
    "b. Program to convert a string to an integer\n",
    "c. Program to access an element in a list\n",
    "d. Program to handle a specific exception\n",
    "e. Program to handle any exception\n",
    "\n",
    "Ans-\n",
    "\n",
    "a.\n",
    "try:\n",
    "    num1 = int(input('Enter 1st number: '))\n",
    "    num2 = int(input('Enter 2nd number: '))\n",
    "    num = num1 / num2\n",
    "    print(num)\n",
    "except ZeroDivisionError:\n",
    "    print('Invalid Input, cannot divide by zero!')\n",
    "\n",
    "b.\n",
    "\n",
    "try:\n",
    "    str1 = input('Enter the number: ')\n",
    "    ss = int(str1)\n",
    "    print(ss)\n",
    "except ValueError:\n",
    "    print('Invalid Input, cannot convert into integer!')\n",
    "\n",
    "c.\n",
    "try:\n",
    "    list1 = [1,2,3,4,5,6]\n",
    "    index = int(input('Enter the index: '))\n",
    "    v = list1[index]\n",
    "    print(f\"value at index {index} is {v}\")\n",
    "        \n",
    "except IndexError:\n",
    "    print('Index is out of range!')\n",
    "\n",
    "d.\n",
    "try:\n",
    "    n = int(input('Enter the num: '))\n",
    "    d = int(input('Enter the denom: '))\n",
    "    res = n/d\n",
    "    print(res)\n",
    "except ValueError:\n",
    "    print('Please enter valid Integer!')\n",
    "\n",
    "e.\n",
    "try:\n",
    "    print('try block code')\n",
    "except Exception:\n",
    "    print('except block code')"
   ]
  }
 ],
 "metadata": {
  "kernelspec": {
   "display_name": "Python 3 (ipykernel)",
   "language": "python",
   "name": "python3"
  },
  "language_info": {
   "codemirror_mode": {
    "name": "ipython",
    "version": 3
   },
   "file_extension": ".py",
   "mimetype": "text/x-python",
   "name": "python",
   "nbconvert_exporter": "python",
   "pygments_lexer": "ipython3",
   "version": "3.8.17"
  }
 },
 "nbformat": 4,
 "nbformat_minor": 5
}
