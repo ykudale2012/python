{
 "cells": [
  {
   "cell_type": "markdown",
   "id": "5348a63b",
   "metadata": {},
   "source": [
    "1. What are keywords in python? Using the keyword library, print all the python keywords.\n",
    "\n",
    "Ans-\n",
    "Keywords in Python are reserved words that cannot be used as ordinary identifiers. They are used to define the syntax and structure of the Python language.\n",
    "\n",
    "with the help of below code snippest we can pring all the python keywords\n",
    "\n",
    "import keyword\n",
    "print(keyword.kwlist)"
   ]
  },
  {
   "cell_type": "markdown",
   "id": "dccd265c",
   "metadata": {},
   "source": [
    "2. What are the rules to create variables in python?\n",
    "\n",
    "Ans- Following are thee some rules which we need to follow while creating the variable\n",
    "Variables must start with letters or underscore(_).\n",
    "Variable cannot start with numbers.\n",
    "Variable only contains (A-Z, a-z, 0-9 and (_)).\n",
    "variables are case sensetive (case, Case, CASE, all are different variables)."
   ]
  },
  {
   "cell_type": "markdown",
   "id": "ece5de17",
   "metadata": {},
   "source": [
    "3. What are the standards and conventions followed for the nomenclature of variables in python to improve code readability and maintainability?\n",
    "\n",
    "Ans- Avoid Reserved words: We shouldn't use keywords as variable name.\n",
    "Meaningful Name: We should use meaningful name and descriptive name of variables.\n",
    "Variable Name: Variable should have descriptive names that reflect their purpose.\n"
   ]
  },
  {
   "cell_type": "markdown",
   "id": "2705d021",
   "metadata": {},
   "source": [
    "4. What will happen if a keyword is used as a variable name?\n",
    "\n",
    "Ans- if we use the keyword as variable name then we will get syntax error.\n"
   ]
  },
  {
   "cell_type": "markdown",
   "id": "4a6df347",
   "metadata": {},
   "source": [
    "5. For what purpose def keyword is used?\n",
    "\n",
    "Ans- def is used to define the new function.\n"
   ]
  },
  {
   "cell_type": "markdown",
   "id": "5fdf4aff",
   "metadata": {},
   "source": [
    "6. What is the operation of this special character ‘\\’?\n",
    "\n",
    "Ans- ‘\\’ represents a single quote character and it is called as backslash.\n"
   ]
  },
  {
   "cell_type": "markdown",
   "id": "4a885e35",
   "metadata": {},
   "source": [
    "7. Give an example of the following conditions:\n",
    "(i) Homogeneous list\n",
    "(ii) Heterogeneous set\n",
    "(iii) Homogeneous tuple\n",
    "\n",
    "Ans- \n",
    "1. Homogeneous list contains data of same data type.\n",
    "eg. homo_list = [2,4,6,8,10]\n",
    "\n",
    "2. Heterogeneous set contains data of different data type\n",
    "eg. hetro_set = {1,'new', 88.88, -1}\n",
    "\n",
    "3. Homogeneous tuple contains data of same data type.\n",
    "eg. homo_tup = ('one','two', 'three', 'four') \n"
   ]
  },
  {
   "cell_type": "markdown",
   "id": "aaf4b8a9",
   "metadata": {},
   "source": [
    "8. Explain the mutable and immutable data types with proper explanation & examples.\n",
    "\n",
    "Ans-\n",
    "\n",
    "mutable-\n",
    " It means changeble, if we have any variable and we can modify that, it is called mutable.\n",
    "\n",
    "    numbers = [1, 2, 3]\n",
    "    numbers.append(4)  # Modifies the original list by adding an element\n",
    "    In the above list 1st we have added elements 1,2,3 and on 2nd line we did append operation in this case it modifies the original list.\n",
    "\n",
    "\n",
    "imutable- \n",
    " It means if we have any varibale and we can't change the value of that, then it is immutable.\n",
    "\n",
    "message = \"Hello\"\n",
    "message += \" World\"  # This creates a new string object with the concatenated value\n",
    "print(message)  # Output: Hello World (the original string remains unchanged)\n",
    "\n",
    "In above code we have given message variable with \"Hello\" value, but whenever we try to change the value of message variable, it will not change in current string, it will create new object message variable wwill refer to that object.\n"
   ]
  },
  {
   "cell_type": "markdown",
   "id": "11deb8aa",
   "metadata": {},
   "source": [
    "9. Write a code to create the given structure using only for loop.\n",
    "*\n",
    "***\n",
    "*****\n",
    "*******\n",
    "*********\n",
    "\n",
    "Ans-\n",
    "\n",
    "for i in range(1, 11, 2):\n",
    "    print('*'*i)"
   ]
  },
  {
   "cell_type": "markdown",
   "id": "e02beca3",
   "metadata": {},
   "source": [
    "10. Write a code to create the given structure using while loop.\n",
    "|||||||||\n",
    "|||||||\n",
    "|||||\n",
    "|||\n",
    "|\n",
    "\n",
    "Ans-\n",
    "i = 9\n",
    "while i>=1:\n",
    "    print('|'*i)\n",
    "    i = i-2"
   ]
  }
 ],
 "metadata": {
  "kernelspec": {
   "display_name": "Python 3 (ipykernel)",
   "language": "python",
   "name": "python3"
  },
  "language_info": {
   "codemirror_mode": {
    "name": "ipython",
    "version": 3
   },
   "file_extension": ".py",
   "mimetype": "text/x-python",
   "name": "python",
   "nbconvert_exporter": "python",
   "pygments_lexer": "ipython3",
   "version": "3.10.9"
  }
 },
 "nbformat": 4,
 "nbformat_minor": 5
}
